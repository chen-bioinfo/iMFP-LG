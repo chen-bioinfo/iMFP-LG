{
 "cells": [
  {
   "cell_type": "code",
   "execution_count": 1,
   "metadata": {},
   "outputs": [],
   "source": [
    "import os\n",
    "data_dir = os.path.dirname(os.path.dirname(os.path.abspath(\"__file__\")))\n",
    "# File path for each functional peptide\n",
    "ACP_file_path = os.path.join(data_dir, 'MFBP','raw_dataset', 'ACP', 'ACPCD_.txt')   \n",
    "ADP_file_path = os.path.join(data_dir, 'MFBP','raw_dataset', 'ADP', 'ADPCD_.txt')   \n",
    "AHP_file_path = os.path.join(data_dir, 'MFBP','raw_dataset', 'AHP', 'AHPCD_.txt')   \n",
    "AIP_file_path = os.path.join(data_dir, 'MFBP','raw_dataset', 'AIP', 'AIPCD_.txt')   \n",
    "AMP_file_path = os.path.join(data_dir, 'MFBP','raw_dataset', 'AMP', 'AMPCD_.txt')   "
   ]
  },
  {
   "cell_type": "code",
   "execution_count": 2,
   "metadata": {},
   "outputs": [
    {
     "name": "stdout",
     "output_type": "stream",
     "text": [
      "646\n",
      "514\n",
      "868\n",
      "1678\n",
      "2409\n",
      "ACP:646,  ADP:514, AHP:868, AIP:1678, AMP:2409\n"
     ]
    }
   ],
   "source": [
    "def get_seq_from_fasta(file):\n",
    "    \"\"\"\n",
    "    Get sequences from files in fasta format\n",
    "    param: file: Path of the fasta file to be processed\n",
    "    return:  list of sequences    list(seq1, seq2, ...)\n",
    "    \"\"\"\n",
    "    seq_list = []\n",
    "    with open(file) as f:\n",
    "        for raw in f.readlines():\n",
    "            if raw[0] == '>':\n",
    "                continue\n",
    "            else:\n",
    "                if raw[-1] == '\\n':\n",
    "                    seq_list.append(raw[:-1])\n",
    "                else:\n",
    "                    seq_list.append(raw)\n",
    "    print(len(seq_list))\n",
    "    return seq_list\n",
    "ACP = get_seq_from_fasta(ACP_file_path)\n",
    "ADP = get_seq_from_fasta(ADP_file_path)\n",
    "AHP = get_seq_from_fasta(AHP_file_path)\n",
    "AIP = get_seq_from_fasta(AIP_file_path)\n",
    "AMP = get_seq_from_fasta(AMP_file_path)\n",
    "\n",
    "all_data_dict = {\"ACP\":ACP, \"ADP\":ADP, \"AHP\":AHP, \"AIP\":AIP, \"AMP\":AMP}\n",
    "print(f\"ACP:{len(ACP)},  ADP:{len(ADP)}, AHP:{len(AHP)}, AIP:{len(AIP)}, AMP:{len(AMP)}\")"
   ]
  },
  {
   "cell_type": "code",
   "execution_count": 3,
   "metadata": {},
   "outputs": [],
   "source": [
    "import numpy as np\n",
    "def get_label_dict(all_data_dict):\n",
    "    \"\"\"\n",
    "    Get a dictionary of all peptide sequences and their labels\n",
    "    param: all_data_dict: Dictionary of peptides saved by category  {\"ACP\":ACP_seq_list, \"ADP\":ADP_seq_list, ...}\n",
    "    return: dictionary of all peptide sequences   {seq1:label1, seq2:label2, ...}  \n",
    "    \"\"\"\n",
    "    label2id = {\"ACP\":0, \"ADP\":1, \"AHP\":2, \"AIP\":3, \"AMP\":4}\n",
    "    seq_label = {}\n",
    "    for peptide_class in all_data_dict.keys():\n",
    "        seq_list = all_data_dict[peptide_class]   # Get all the sequences of a class of functional peptides\n",
    "        for seq in seq_list:\n",
    "            if seq not in seq_label.keys():\n",
    "                label = np.array([0,0,0,0,0])\n",
    "                label[label2id[peptide_class]] = 1\n",
    "                seq_label[seq] = label\n",
    "            else:\n",
    "                seq_label[seq][label2id[peptide_class]] = 1     \n",
    "    return seq_label  \n",
    "\n",
    "seq_label = get_label_dict(all_data_dict)\n",
    "all_data_file_path = os.path.join(data_dir, 'MFBP', 'all_data.npy')\n",
    "np.save(all_data_file_path, seq_label)"
   ]
  },
  {
   "cell_type": "markdown",
   "metadata": {},
   "source": [
    "### Get training data and test data\n",
    "Process the training set and test set sequence files obtained by get_train_test.py,  <br>\n",
    "and get the corresponding labels of the training sequence and test sequence, and save them as numpy files. <br>\n",
    "The numpy file is saved as a dictionary file, where the key value is a sequence, and the value is the label of the sequence <br>\n",
    "- train_data.npy  {seq1:label1, seq2:label2, ....}   <br>\n",
    "- test_data.npy  {seq1:label1, seq2:label2, ....}  <br>"
   ]
  },
  {
   "cell_type": "code",
   "execution_count": 11,
   "metadata": {},
   "outputs": [],
   "source": [
    "import numpy as np\n",
    "train_seq_path = os.path.join(data_dir, 'MFBP', 'seq_data', 'tr_seq.npy')\n",
    "test_seq_path = os.path.join(data_dir, 'MFBP', 'seq_data', 'te_seq.npy')\n",
    "all_data_file_path = os.path.join(data_dir, 'MFBP', 'all_data.npy')\n",
    "\n",
    "train_seq =  np.load(train_seq_path)\n",
    "test_seq = np.load(test_seq_path)\n",
    "all_seq_label_data = np.load(all_data_file_path, allow_pickle=True).item()\n",
    "\n",
    "def get_train_test_seq_label(seq, all_seq_label_data, save_path):\n",
    "    seq_set = set(seq)\n",
    "    seq_label_dict = dict()\n",
    "    for seq in seq_set:\n",
    "        label = all_seq_label_data[seq]\n",
    "        seq_label_dict[seq] = label\n",
    "    np.save(save_path, seq_label_dict)\n",
    "\n",
    "train_save_path = os.path.join(data_dir, 'MFBP', 'train_data.npy')\n",
    "test_save_path = os.path.join(data_dir, 'MFBP', 'test_data.npy')\n",
    "get_train_test_seq_label(train_seq, all_seq_label_data, train_save_path)\n",
    "get_train_test_seq_label(test_seq, all_seq_label_data, test_save_path)"
   ]
  },
  {
   "attachments": {},
   "cell_type": "markdown",
   "metadata": {},
   "source": [
    "## Data analysis"
   ]
  },
  {
   "cell_type": "code",
   "execution_count": null,
   "metadata": {},
   "outputs": [],
   "source": []
  }
 ],
 "metadata": {
  "kernelspec": {
   "display_name": "Python 3.7.13 ('torch': conda)",
   "language": "python",
   "name": "python3"
  },
  "language_info": {
   "codemirror_mode": {
    "name": "ipython",
    "version": 3
   },
   "file_extension": ".py",
   "mimetype": "text/x-python",
   "name": "python",
   "nbconvert_exporter": "python",
   "pygments_lexer": "ipython3",
   "version": "3.7.12 | packaged by conda-forge | (default, Oct 26 2021, 06:08:53) \n[GCC 9.4.0]"
  },
  "orig_nbformat": 4,
  "vscode": {
   "interpreter": {
    "hash": "0d63231a3689373e504d752b656abbebf4c65d1a53960ba549fb28b84ab7f5d1"
   }
  }
 },
 "nbformat": 4,
 "nbformat_minor": 2
}
